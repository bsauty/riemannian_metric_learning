{
 "cells": [
  {
   "cell_type": "code",
   "execution_count": 55,
   "metadata": {},
   "outputs": [],
   "source": [
    "import os\n",
    "import sys\n",
    "module_path = os.path.abspath(os.path.join('../'))\n",
    "if module_path not in sys.path:\n",
    "    sys.path.append(module_path)\n",
    "    \n",
    "import pandas as pd\n",
    "from tqdm import tqdm"
   ]
  },
  {
   "cell_type": "code",
   "execution_count": 56,
   "metadata": {},
   "outputs": [
    {
     "name": "stdout",
     "output_type": "stream",
     "text": [
      "The autoreload extension is already loaded. To reload it, use:\n",
      "  %reload_ext autoreload\n"
     ]
    }
   ],
   "source": [
    "import matplotlib.pyplot as plt\n",
    "\n",
    "import torch\n",
    "import torch.optim as optim\n",
    "import numpy as np\n",
    "\n",
    "%matplotlib inline\n",
    "%load_ext autoreload\n",
    "%autoreload 2\n",
    "\n",
    "device = torch.device(\"cuda\" if torch.cuda.is_available() else \"cpu\")"
   ]
  },
  {
   "cell_type": "markdown",
   "metadata": {},
   "source": [
    "## Loading the tensors"
   ]
  },
  {
   "cell_type": "code",
   "execution_count": 45,
   "metadata": {},
   "outputs": [],
   "source": [
    "template_data_path = \"/network/lustre/dtlake01/aramis/datasets/adni/caps/caps_v2021/subjects/sub-ADNI002S0295/ses-M00/deeplearning_prepare_data/image_based/t1_linear/sub-ADNI002S0295_ses-M00_T1w_space-MNI152NLin2009cSym_desc-Crop_res-1x1x1_T1w.pt\"\n",
    "template_data = torch.load(template_data_path)\n",
    "#template_data = template_data[:,::2,::2,::2]"
   ]
  },
  {
   "cell_type": "code",
   "execution_count": 46,
   "metadata": {
    "scrolled": true,
    "tags": []
   },
   "outputs": [
    {
     "data": {
      "text/plain": [
       "torch.Size([1, 80, 96, 80])"
      ]
     },
     "execution_count": 46,
     "metadata": {},
     "output_type": "execute_result"
    }
   ],
   "source": [
    "template_data = template_data[:,4:164:2,8:200:2,8:168:2]\n",
    "template_data.shape"
   ]
  },
  {
   "cell_type": "code",
   "execution_count": 49,
   "metadata": {},
   "outputs": [
    {
     "data": {
      "image/png": "[encoded data removed]",
      "text/plain": [
       "<Figure size 288x345.6 with 1 Axes>"
      ]
     },
     "metadata": {
      "needs_background": "light"
     },
     "output_type": "display_data"
    }
   ],
   "source": [
    "plt.matshow(template_data[0][30])\n",
    "plt.show()"
   ]
  },
  {
   "cell_type": "code",
   "execution_count": 50,
   "metadata": {},
   "outputs": [
    {
     "name": "stderr",
     "output_type": "stream",
     "text": [
      "/home/benoit.sautydechalon/anaconda3/envs/pami/lib/python3.8/site-packages/IPython/core/interactiveshell.py:3165: DtypeWarning: Columns (117,118,119,310) have mixed types.Specify dtype option on import or set low_memory=False.\n",
      "  has_raised = await self.run_ast_nodes(code_ast.body, cell_name,\n"
     ]
    }
   ],
   "source": [
    "caps_info = pd.read_csv('/network/lustre/dtlake01/aramis/datasets/adni/caps/caps_v2021.tsv', sep='\\t', \n",
    "                        error_bad_lines=False)[['participant_id', 'session_id', 'age', 'diagnosis', 'MMSE']].set_index(['participant_id','session_id'])"
   ]
  },
  {
   "cell_type": "code",
   "execution_count": 51,
   "metadata": {},
   "outputs": [
    {
     "data": {
      "text/html": [
       "<div>\n",
       "<style scoped>\n",
       "    .dataframe tbody tr th:only-of-type {\n",
       "        vertical-align: middle;\n",
       "    }\n",
       "\n",
       "    .dataframe tbody tr th {\n",
       "        vertical-align: top;\n",
       "    }\n",
       "\n",
       "    .dataframe thead th {\n",
       "        text-align: right;\n",
       "    }\n",
       "</style>\n",
       "<table border=\"1\" class=\"dataframe\">\n",
       "  <thead>\n",
       "    <tr style=\"text-align: right;\">\n",
       "      <th></th>\n",
       "      <th></th>\n",
       "      <th>age</th>\n",
       "      <th>diagnosis</th>\n",
       "      <th>MMSE</th>\n",
       "    </tr>\n",
       "    <tr>\n",
       "      <th>participant_id</th>\n",
       "      <th>session_id</th>\n",
       "      <th></th>\n",
       "      <th></th>\n",
       "      <th></th>\n",
       "    </tr>\n",
       "  </thead>\n",
       "  <tbody>\n",
       "    <tr>\n",
       "      <th rowspan=\"5\" valign=\"top\">sub-ADNI002S0295</th>\n",
       "      <th>ses-M00</th>\n",
       "      <td>84.8</td>\n",
       "      <td>CN</td>\n",
       "      <td>28.0</td>\n",
       "    </tr>\n",
       "    <tr>\n",
       "      <th>ses-M06</th>\n",
       "      <td>85.3</td>\n",
       "      <td>CN</td>\n",
       "      <td>28.0</td>\n",
       "    </tr>\n",
       "    <tr>\n",
       "      <th>ses-M12</th>\n",
       "      <td>85.8</td>\n",
       "      <td>CN</td>\n",
       "      <td>30.0</td>\n",
       "    </tr>\n",
       "    <tr>\n",
       "      <th>ses-M24</th>\n",
       "      <td>87.0</td>\n",
       "      <td>CN</td>\n",
       "      <td>29.0</td>\n",
       "    </tr>\n",
       "    <tr>\n",
       "      <th>ses-M36</th>\n",
       "      <td>87.8</td>\n",
       "      <td>CN</td>\n",
       "      <td>28.0</td>\n",
       "    </tr>\n",
       "    <tr>\n",
       "      <th>...</th>\n",
       "      <th>...</th>\n",
       "      <td>...</td>\n",
       "      <td>...</td>\n",
       "      <td>...</td>\n",
       "    </tr>\n",
       "    <tr>\n",
       "      <th rowspan=\"3\" valign=\"top\">sub-ADNI941S6581</th>\n",
       "      <th>ses-M00</th>\n",
       "      <td>74.4</td>\n",
       "      <td>CN</td>\n",
       "      <td>30.0</td>\n",
       "    </tr>\n",
       "    <tr>\n",
       "      <th>ses-M12</th>\n",
       "      <td>75.4</td>\n",
       "      <td>NaN</td>\n",
       "      <td>NaN</td>\n",
       "    </tr>\n",
       "    <tr>\n",
       "      <th>ses-M24</th>\n",
       "      <td>76.4</td>\n",
       "      <td>NaN</td>\n",
       "      <td>30.0</td>\n",
       "    </tr>\n",
       "    <tr>\n",
       "      <th>sub-ADNI941S6803</th>\n",
       "      <th>ses-M00</th>\n",
       "      <td>75.0</td>\n",
       "      <td>MCI</td>\n",
       "      <td>28.0</td>\n",
       "    </tr>\n",
       "    <tr>\n",
       "      <th>sub-ADNI941S6854</th>\n",
       "      <th>ses-M00</th>\n",
       "      <td>86.2</td>\n",
       "      <td>AD</td>\n",
       "      <td>30.0</td>\n",
       "    </tr>\n",
       "  </tbody>\n",
       "</table>\n",
       "<p>16319 rows × 3 columns</p>\n",
       "</div>"
      ],
      "text/plain": [
       "                              age diagnosis  MMSE\n",
       "participant_id   session_id                      \n",
       "sub-ADNI002S0295 ses-M00     84.8        CN  28.0\n",
       "                 ses-M06     85.3        CN  28.0\n",
       "                 ses-M12     85.8        CN  30.0\n",
       "                 ses-M24     87.0        CN  29.0\n",
       "                 ses-M36     87.8        CN  28.0\n",
       "...                           ...       ...   ...\n",
       "sub-ADNI941S6581 ses-M00     74.4        CN  30.0\n",
       "                 ses-M12     75.4       NaN   NaN\n",
       "                 ses-M24     76.4       NaN  30.0\n",
       "sub-ADNI941S6803 ses-M00     75.0       MCI  28.0\n",
       "sub-ADNI941S6854 ses-M00     86.2        AD  30.0\n",
       "\n",
       "[16319 rows x 3 columns]"
      ]
     },
     "execution_count": 51,
     "metadata": {},
     "output_type": "execute_result"
    }
   ],
   "source": [
    "caps_info"
   ]
  },
  {
   "cell_type": "code",
   "execution_count": null,
   "metadata": {
    "scrolled": true,
    "tags": []
   },
   "outputs": [
    {
     "name": "stderr",
     "output_type": "stream",
     "text": [
      " 41%|████      | 913/2254 [46:13<2:15:48,  6.08s/it]"
     ]
    }
   ],
   "source": [
    "path_imaging_data = \"/network/lustre/dtlake01/aramis/datasets/adni/caps/caps_v2021/subjects/\"\n",
    "\n",
    "sub_lst = sorted(os.listdir(path_imaging_data))\n",
    "data_dict = {'data':template_data, 'target':torch.ones(1), 'label':torch.empty(1)}\n",
    "\n",
    "number_of_patients = 500\n",
    "i = 0 \n",
    "\n",
    "for sub in tqdm(sub_lst):\n",
    "    \n",
    "    if i == number_of_patients:\n",
    "        break\n",
    "        \n",
    "    sub_id = sub[12:]\n",
    "    sub_path = path_imaging_data+sub\n",
    "    ses_lst = sorted(os.listdir(sub_path))\n",
    "    \n",
    "    if caps_info.loc[sub]['MMSE'].between(10, 25).any():\n",
    "        i += 1\n",
    "        for ses in ses_lst:\n",
    "\n",
    "            ses_path = os.path.join(sub_path, ses)\n",
    "            filename = 'deeplearning_prepare_data/image_based/t1_linear/' + sub + '_' + ses + '_T1w_space-MNI152NLin2009cSym_desc-Crop_res-1x1x1_T1w.pt'\n",
    "            ses_data_path = os.path.join(ses_path, filename)\n",
    "\n",
    "            if (caps_info.loc[(sub,ses)]['diagnosis'] in ['MCI', 'AD']):\n",
    "                # Load the data\n",
    "                ses_torch = torch.load(ses_data_path)\n",
    "                # Subsample\n",
    "                ses_torch = ses_torch[:,4:164:2,8:200:2,8:168:2]\n",
    "                # Normalize\n",
    "                ses_torch = ses_torch/ses_torch.max()\n",
    "\n",
    "                data_dict['data'] = torch.cat((data_dict['data'], ses_torch))\n",
    "                data_dict['target'] = torch.cat((data_dict['target'], torch.tensor([caps_info.loc[(sub,ses)]['age']])))\n",
    "                data_dict['label'] = torch.cat((data_dict['label'], torch.tensor([int(sub_id)])))\n",
    "                \n",
    "\n",
    "# Threshold to have a lot of 0 values in the input\n",
    "mask_threshold = data_dict['data']<(torch.tensor(1e-2))\n",
    "data_dict['data'][mask_threshold] = 0\n",
    "        \n",
    "# Then add the (useless targets) and delete the template data\n",
    "data_dict['data'], data_dict['target'], data_dict['label'] = data_dict['data'][1:], data_dict['target'][1:], data_dict['label'][1:]\n",
    "\n",
    "data_dict"
   ]
  },
  {
   "cell_type": "code",
   "execution_count": null,
   "metadata": {},
   "outputs": [],
   "source": [
    "print(f\"There are {data_dict['data'].shape[0]} patients with a total of {data_dict['data'].shape[1]*data_dict['data'].shape[2]*data_dict['data'].shape[3]} dimentions\")"
   ]
  },
  {
   "cell_type": "code",
   "execution_count": null,
   "metadata": {},
   "outputs": [],
   "source": [
    "torch.save(data_dict, 'ADNI_full')"
   ]
  },
  {
   "cell_type": "markdown",
   "metadata": {},
   "source": [
    "## Load the saved data and take only a subset to allow faster training"
   ]
  },
  {
   "cell_type": "code",
   "execution_count": 61,
   "metadata": {},
   "outputs": [],
   "source": [
    "data = torch.load('ADNI_full')"
   ]
  },
  {
   "cell_type": "code",
   "execution_count": 69,
   "metadata": {},
   "outputs": [
    {
     "data": {
      "text/plain": [
       "torch.Size([2065, 80, 96, 80])"
      ]
     },
     "execution_count": 69,
     "metadata": {},
     "output_type": "execute_result"
    }
   ],
   "source": [
    "data['data'].shape"
   ]
  },
  {
   "cell_type": "code",
   "execution_count": 75,
   "metadata": {},
   "outputs": [
    {
     "data": {
      "text/plain": [
       "tensor([  0,   0,   0,  ..., 478, 478, 478])"
      ]
     },
     "execution_count": 75,
     "metadata": {},
     "output_type": "execute_result"
    }
   ],
   "source": [
    "already_seen = []\n",
    "index = []\n",
    "i = -1\n",
    "\n",
    "for sub in data['label']:\n",
    "    if sub in already_seen:\n",
    "        index.append(i)\n",
    "    else:\n",
    "        i += 1\n",
    "        already_seen.append(sub)\n",
    "        index.append(i)\n",
    "        \n",
    "torch.tensor(index) "
   ]
  },
  {
   "cell_type": "markdown",
   "metadata": {},
   "source": [
    "## Mini-dataset for debugging"
   ]
  },
  {
   "cell_type": "code",
   "execution_count": 77,
   "metadata": {},
   "outputs": [],
   "source": [
    "mini_data = {}\n",
    "mini_data['data'] = data['data'][:10]\n",
    "mini_data['target'] = [(index[i], float(data['target'][i])) for i in range(10)]\n",
    "mini_data['ADNI_id'] = data['label'][:10]"
   ]
  },
  {
   "cell_type": "code",
   "execution_count": 79,
   "metadata": {},
   "outputs": [],
   "source": [
    "torch.save(mini_data,'mini_dataset')"
   ]
  },
  {
   "cell_type": "markdown",
   "metadata": {},
   "source": [
    "## Small-dataset for testing"
   ]
  },
  {
   "cell_type": "code",
   "execution_count": 80,
   "metadata": {},
   "outputs": [],
   "source": [
    "mini_data = {}\n",
    "mini_data['data'] = data['data'][:100]\n",
    "mini_data['ADNI_id'] = data['label'][:100]\n",
    "mini_data['target'] = [(index[i], float(data['target'][i])) for i in range(100)]\n",
    "mini_data['ADNI_id'] = data['label'][:100]"
   ]
  },
  {
   "cell_type": "code",
   "execution_count": 81,
   "metadata": {},
   "outputs": [],
   "source": [
    "torch.save(mini_data,'small_dataset')"
   ]
  },
  {
   "cell_type": "markdown",
   "metadata": {},
   "source": [
    "## Large dataset for training"
   ]
  },
  {
   "cell_type": "code",
   "execution_count": 82,
   "metadata": {},
   "outputs": [],
   "source": [
    "mini_data = {}\n",
    "mini_data['data'] = data['data']\n",
    "mini_data['ADNI_id'] = data['label']\n",
    "mini_data['target'] = [(index[i], float(data['target'][i])) for i in range(len(data['data']))]"
   ]
  },
  {
   "cell_type": "code",
   "execution_count": 83,
   "metadata": {},
   "outputs": [],
   "source": [
    "torch.save(mini_data,'large_dataset')"
   ]
  },
  {
   "cell_type": "code",
   "execution_count": null,
   "metadata": {},
   "outputs": [],
   "source": []
  },
  {
   "cell_type": "code",
   "execution_count": null,
   "metadata": {},
   "outputs": [],
   "source": []
  },
  {
   "cell_type": "markdown",
   "metadata": {},
   "source": [
    "## Data-analysis on the encoded images"
   ]
  },
  {
   "cell_type": "code",
   "execution_count": 7,
   "metadata": {},
   "outputs": [],
   "source": [
    "encoded = torch.load('../deformetrica/deformetrica/LAE_experiments/encoded_datasetCAE_300_epochs_5e-5_lr')"
   ]
  },
  {
   "cell_type": "code",
   "execution_count": 32,
   "metadata": {},
   "outputs": [],
   "source": [
    "data = encoded['data']"
   ]
  },
  {
   "cell_type": "code",
   "execution_count": 11,
   "metadata": {},
   "outputs": [],
   "source": [
    "import matplotlib.pyplot as plt\n",
    "import numpy as np\n",
    "import pandas as pd\n",
    "from sklearn import decomposition\n",
    "from sklearn.preprocessing import scale\n",
    "from sklearn.decomposition import PCA"
   ]
  },
  {
   "cell_type": "code",
   "execution_count": 28,
   "metadata": {},
   "outputs": [],
   "source": [
    "data = scale(data)"
   ]
  },
  {
   "cell_type": "code",
   "execution_count": 27,
   "metadata": {},
   "outputs": [
    {
     "data": {
      "text/plain": [
       "tensor(0.5189)"
      ]
     },
     "execution_count": 27,
     "metadata": {},
     "output_type": "execute_result"
    }
   ],
   "source": [
    "data.mean()"
   ]
  },
  {
   "cell_type": "code",
   "execution_count": 33,
   "metadata": {},
   "outputs": [],
   "source": [
    "covar_matrix = PCA(n_components = 20)"
   ]
  },
  {
   "cell_type": "code",
   "execution_count": 34,
   "metadata": {},
   "outputs": [
    {
     "data": {
      "text/plain": [
       "array([68.7, 72.7, 74.1, 75. , 75.6, 76.1, 76.6, 77. , 77.3, 77.6, 77.9,\n",
       "       78.2, 78.5, 78.8, 79.1, 79.3, 79.5, 79.7, 79.9, 80.1])"
      ]
     },
     "execution_count": 34,
     "metadata": {},
     "output_type": "execute_result"
    }
   ],
   "source": [
    "covar_matrix.fit(data)\n",
    "variance = covar_matrix.explained_variance_ratio_ #calculate variance ratios\n",
    "\n",
    "var=np.cumsum(np.round(covar_matrix.explained_variance_ratio_, decimals=3)*100)\n",
    "var #cumulative sum of variance explained with [n] features\n"
   ]
  },
  {
   "cell_type": "code",
   "execution_count": null,
   "metadata": {},
   "outputs": [],
   "source": []
  }
 ],
 "metadata": {
  "kernelspec": {
   "display_name": "pami",
   "language": "python",
   "name": "pami"
  },
  "language_info": {
   "codemirror_mode": {
    "name": "ipython",
    "version": 3
   },
   "file_extension": ".py",
   "mimetype": "text/x-python",
   "name": "python",
   "nbconvert_exporter": "python",
   "pygments_lexer": "ipython3",
   "version": "3.8.5"
  }
 },
 "nbformat": 4,
 "nbformat_minor": 5
}
